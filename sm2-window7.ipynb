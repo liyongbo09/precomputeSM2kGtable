{
 "cells": [
  {
   "cell_type": "code",
   "execution_count": 2,
   "metadata": {},
   "outputs": [],
   "source": [
    "# 定义SM2曲线参数\n",
    "p = Integer('FFFFFFFEFFFFFFFFFFFFFFFFFFFFFFFFFFFFFFFF00000000FFFFFFFFFFFFFFFF', 16)\n",
    "a = Integer('FFFFFFFEFFFFFFFFFFFFFFFFFFFFFFFFFFFFFFFF00000000FFFFFFFFFFFFFFFC', 16)\n",
    "b = Integer('28E9FA9E9D9F5E344D5A9E4BCF6509A7F39789F515AB8F92DDBCBD414D940E93', 16)\n",
    "x = Integer('32C4AE2C1F1981195F9904466A39C9948FE30BBFF2660BE1715A4589334C74C7', 16)\n",
    "y = Integer('BC3736A2F4F6779C59BDCEE36B692153D0A9877CC62A474002DF32E52139F0A0', 16)\n",
    "#x = Integer('91167a5ee1c13b05d6a1ed99ac24c3c33e7981eddca6c05061328990f418029e', 16)\n",
    "#y = Integer('63cd65d481d735bd8d4cfb066e2a48f8c1f5e5788d3295fac1354e593c2d0ddd', 16)\n",
    "n = Integer('FFFFFFFEFFFFFFFFFFFFFFFFFFFFFFFF7203DF6B21C6052B53BBF40939D54123', 16)\n",
    "h = Integer('1', 10)  # 余阶为1\n"
   ]
  },
  {
   "cell_type": "code",
   "execution_count": 4,
   "metadata": {},
   "outputs": [],
   "source": [
    "# 定义SM2曲线对象\n",
    "sm2_curve = EllipticCurve(GF(p),[a, b])"
   ]
  },
  {
   "cell_type": "code",
   "execution_count": 5,
   "metadata": {},
   "outputs": [],
   "source": [
    "G=sm2_curve([x,y])"
   ]
  },
  {
   "cell_type": "code",
   "execution_count": 6,
   "metadata": {},
   "outputs": [
    {
     "data": {
      "text/plain": [
       "'0x32c4ae2c1f1981195f9904466a39c9948fe30bbff2660be1715a4589334c74c7'"
      ]
     },
     "execution_count": 6,
     "metadata": {},
     "output_type": "execute_result"
    }
   ],
   "source": [
    "hex(22963146547237050559479531362550074578802567295341616970375194840604139615431)"
   ]
  },
  {
   "cell_type": "code",
   "execution_count": 7,
   "metadata": {},
   "outputs": [
    {
     "data": {
      "text/plain": [
       "(22963146547237050559479531362550074578802567295341616970375194840604139615431 : 85132369209828568825618990617112496413088388631904505083283536607588877201568 : 1)"
      ]
     },
     "execution_count": 7,
     "metadata": {},
     "output_type": "execute_result"
    }
   ],
   "source": [
    "G"
   ]
  },
  {
   "cell_type": "code",
   "execution_count": 8,
   "metadata": {},
   "outputs": [
    {
     "data": {
      "text/plain": [
       "(110949976622067970232667717757988372449612726956794568863766077495518639966369 : 108043894331683940523322134827547486578505605582840566503708317276835794346598 : 1)"
      ]
     },
     "execution_count": 8,
     "metadata": {},
     "output_type": "execute_result"
    }
   ],
   "source": [
    "384*G"
   ]
  },
  {
   "cell_type": "code",
   "execution_count": 11,
   "metadata": {},
   "outputs": [],
   "source": [
    "import re\n",
    "import sys\n",
    "p = Integer('FFFFFFFEFFFFFFFFFFFFFFFFFFFFFFFFFFFFFFFF00000000FFFFFFFFFFFFFFFF', 16)\n",
    "a = Integer('FFFFFFFEFFFFFFFFFFFFFFFFFFFFFFFFFFFFFFFF00000000FFFFFFFFFFFFFFFC', 16)\n",
    "b = Integer('28E9FA9E9D9F5E344D5A9E4BCF6509A7F39789F515AB8F92DDBCBD414D940E93', 16)\n",
    "x = Integer('32C4AE2C1F1981195F9904466A39C9948FE30BBFF2660BE1715A4589334C74C7', 16)\n",
    "y = Integer('BC3736A2F4F6779C59BDCEE36B692153D0A9877CC62A474002DF32E52139F0A0', 16)\n",
    "sm2_curve = EllipticCurve(GF(p),[a, b])\n",
    "G=sm2_curve([x,y])\n",
    "def Mont(a):\n",
    "    r=2^256\n",
    "    n = Integer('FFFFFFFEFFFFFFFFFFFFFFFFFFFFFFFFFFFFFFFF00000000FFFFFFFFFFFFFFFF', 16)\n",
    "    a= (a*r)%n\n",
    "    return a\n",
    "def retnumber(st1):\n",
    "    pattern=re.compile(r'\\d{2,}')\n",
    "    result=pattern.findall(st1)\n",
    "    return result\n",
    "def changStrToHex(numberStr):\n",
    "    to=Integer(numberStr,10)\n",
    "    mto=Mont(to)\n",
    "    ht=\"0x{:064x}\".format(mto)\n",
    "    return ht\n",
    "def changHtToTOBN(hexNumber):\n",
    "    listString=[]\n",
    "    listString.append(hexNumber[0:10])\n",
    "    listString.append('0x' + hexNumber[10:18])\n",
    "    listString.append('0x' + hexNumber[18:26])\n",
    "    listString.append('0x' + hexNumber[26:34])\n",
    "    listString.append('0x' + hexNumber[34:42])\n",
    "    listString.append('0x' + hexNumber[42:50])\n",
    "    listString.append('0x' + hexNumber[50:58])\n",
    "    listString.append('0x' + hexNumber[58:])\n",
    "    #print(listString)\n",
    "    tobn=[]\n",
    "    length=len(listString)\n",
    "    index=0\n",
    "    while (index < length):\n",
    "        newStr='TOBN('+ listString[index] +','+listString[index+1] +'),'\n",
    "        if (len(tobn) == 0):\n",
    "            tobn.append(newStr)\n",
    "        else:\n",
    "            tobn.insert(0,newStr)\n",
    "        index=index+2    \n",
    "    print(tobn[0],tobn[1])\n",
    "    print(tobn[2],tobn[3])\n",
    "def createBaseData(extLoop,intLoop):\n",
    "    pow_t=0\n",
    "    while(pow_t < extLoop):\n",
    "        mi=pow_t*7\n",
    "        ext=pow(2,mi)\n",
    "        print('{') \n",
    "        for number in range(1,intLoop):        \n",
    "            ng = (ext*number*G)\n",
    "            ngstr = str(ng)\n",
    "            retlist=retnumber(ngstr)\n",
    "            for number in retlist:\n",
    "                hn=changStrToHex(number)    \n",
    "                changHtToTOBN(hn)\n",
    "        print('},')\n",
    "        pow_t=pow_t+1\n",
    "\n",
    "sys.stdout=open('7-output.txt','w')  \n",
    "createBaseData(37,65)\n",
    "sys.stdout.close()\n",
    "sys.stdout = sys.__stdout__   "
   ]
  },
  {
   "cell_type": "code",
   "execution_count": 16,
   "metadata": {},
   "outputs": [
    {
     "data": {
      "text/plain": [
       "'0xd4003c046b44fbaf'"
      ]
     },
     "execution_count": 16,
     "metadata": {},
     "output_type": "execute_result"
    }
   ],
   "source": [
    "hex(15276275925717941167)"
   ]
  },
  {
   "cell_type": "code",
   "execution_count": 22,
   "metadata": {},
   "outputs": [
    {
     "data": {
      "text/plain": [
       "'0x15e'"
      ]
     },
     "execution_count": 22,
     "metadata": {},
     "output_type": "execute_result"
    }
   ],
   "source": [
    "hex(0xaf<<1)"
   ]
  },
  {
   "cell_type": "code",
   "execution_count": 3,
   "metadata": {},
   "outputs": [
    {
     "data": {
      "text/plain": [
       "287"
      ]
     },
     "execution_count": 3,
     "metadata": {},
     "output_type": "execute_result"
    }
   ],
   "source": [
    "hex(36820>>7)\n",
    "int(0x11f)"
   ]
  },
  {
   "cell_type": "code",
   "execution_count": 1,
   "metadata": {},
   "outputs": [
    {
     "data": {
      "text/plain": [
       "'0x11f'"
      ]
     },
     "execution_count": 1,
     "metadata": {},
     "output_type": "execute_result"
    }
   ],
   "source": [
    "mask = (1 << (7 + 1)) - 1;\n",
    "hex(mask)\n",
    "hex(36820>>7)"
   ]
  }
 ],
 "metadata": {
  "kernelspec": {
   "display_name": "Python 3",
   "language": "python",
   "name": "python3"
  },
  "language_info": {
   "codemirror_mode": {
    "name": "ipython",
    "version": 3
   },
   "file_extension": ".py",
   "mimetype": "text/x-python",
   "name": "python",
   "nbconvert_exporter": "python",
   "pygments_lexer": "ipython3",
   "version": "3.9.13"
  },
  "orig_nbformat": 4
 },
 "nbformat": 4,
 "nbformat_minor": 2
}
