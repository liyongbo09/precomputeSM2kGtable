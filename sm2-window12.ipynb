{
 "cells": [
  {
   "cell_type": "code",
   "execution_count": 1,
   "metadata": {
    "vscode": {
     "languageId": "python"
    }
   },
   "outputs": [],
   "source": [
    "# 定义SM2曲线参数\n",
    "p = Integer('FFFFFFFEFFFFFFFFFFFFFFFFFFFFFFFFFFFFFFFF00000000FFFFFFFFFFFFFFFF', 16)\n",
    "a = Integer('FFFFFFFEFFFFFFFFFFFFFFFFFFFFFFFFFFFFFFFF00000000FFFFFFFFFFFFFFFC', 16)\n",
    "b = Integer('28E9FA9E9D9F5E344D5A9E4BCF6509A7F39789F515AB8F92DDBCBD414D940E93', 16)\n",
    "x = Integer('32C4AE2C1F1981195F9904466A39C9948FE30BBFF2660BE1715A4589334C74C7', 16)\n",
    "y = Integer('BC3736A2F4F6779C59BDCEE36B692153D0A9877CC62A474002DF32E52139F0A0', 16)\n",
    "#x = Integer('91167a5ee1c13b05d6a1ed99ac24c3c33e7981eddca6c05061328990f418029e', 16)\n",
    "#y = Integer('63cd65d481d735bd8d4cfb066e2a48f8c1f5e5788d3295fac1354e593c2d0ddd', 16)\n",
    "n = Integer('FFFFFFFEFFFFFFFFFFFFFFFFFFFFFFFF7203DF6B21C6052B53BBF40939D54123', 16)\n",
    "h = Integer('1', 10)  # 余阶为1\n",
    "\n"
   ]
  },
  {
   "cell_type": "code",
   "execution_count": 2,
   "metadata": {
    "vscode": {
     "languageId": "python"
    }
   },
   "outputs": [],
   "source": [
    "def MontPro(a_m,b_m):\n",
    "    t = (a_m*b_m )% r\n",
    "    m = (t * nn) % r\n",
    "    u=(a_m*b_m+m*n)//r\n",
    "    if u>=n:\n",
    "        return u-n\n",
    "    else:\n",
    "        return u\n",
    "def Mont(a):\n",
    "    r=2^256\n",
    "    n = Integer('FFFFFFFEFFFFFFFFFFFFFFFFFFFFFFFFFFFFFFFF00000000FFFFFFFFFFFFFFFF', 16)\n",
    "    a= (a*r)%n\n",
    "    return a"
   ]
  },
  {
   "cell_type": "code",
   "execution_count": 3,
   "metadata": {
    "vscode": {
     "languageId": "python"
    }
   },
   "outputs": [],
   "source": [
    "# 定义SM2曲线对象\n",
    "sm2_curve = EllipticCurve(GF(p),[a, b])"
   ]
  },
  {
   "cell_type": "code",
   "execution_count": 4,
   "metadata": {
    "vscode": {
     "languageId": "python"
    }
   },
   "outputs": [],
   "source": [
    "G=sm2_curve([x,y])"
   ]
  },
  {
   "cell_type": "code",
   "execution_count": 5,
   "metadata": {
    "vscode": {
     "languageId": "python"
    }
   },
   "outputs": [
    {
     "data": {
      "text/plain": [
       "'0x3178d1bb1435c9af860bec0a6c78c5d0c7652177fdfae41bf500974f78295571'"
      ]
     },
     "execution_count": 5,
     "metadata": {},
     "output_type": "execute_result"
    }
   ],
   "source": [
    "hex(22376798736978337999926256823464801449302810954886947654274662255350671562097)"
   ]
  },
  {
   "cell_type": "code",
   "execution_count": 8,
   "metadata": {
    "vscode": {
     "languageId": "python"
    }
   },
   "outputs": [
    {
     "data": {
      "text/plain": [
       "(50222219412107259779948952649129713888473977043349823910071704807142825525181 : 64177083404313633756069508670674769679665982254096208912962726056087428430162 : 1)"
      ]
     },
     "execution_count": 8,
     "metadata": {},
     "output_type": "execute_result"
    }
   ],
   "source": [
    "pow(2,14*18)*15*G"
   ]
  },
  {
   "cell_type": "code",
   "execution_count": 6,
   "metadata": {
    "vscode": {
     "languageId": "python"
    }
   },
   "outputs": [
    {
     "data": {
      "text/plain": [
       "(27412534245288772410073514710209719497144903878936776439843814129906215244558 : 40161307429257122131290503740139335945467451129312298673572386879577844638796 : 1)"
      ]
     },
     "execution_count": 6,
     "metadata": {},
     "output_type": "execute_result"
    }
   ],
   "source": [
    "pow(2,56)*3350*G"
   ]
  },
  {
   "cell_type": "code",
   "execution_count": 9,
   "metadata": {
    "vscode": {
     "languageId": "python"
    }
   },
   "outputs": [
    {
     "data": {
      "text/plain": [
       "'0x6ffef743ae13f22bcefcbb98e2883a1dbf3b485722a6c4aec69750d5bd21c524'"
      ]
     },
     "execution_count": 9,
     "metadata": {},
     "output_type": "execute_result"
    }
   ],
   "source": [
    "hex(Mont(50222219412107259779948952649129713888473977043349823910071704807142825525181))"
   ]
  },
  {
   "cell_type": "code",
   "execution_count": 188,
   "metadata": {
    "vscode": {
     "languageId": "python"
    }
   },
   "outputs": [
    {
     "data": {
      "text/plain": [
       "(57557275668170030751205783366692182336187119348409806120363223499612853897845 : 22376798736978337999926256823464801449302810954886947654274662255350671562097 : 1)"
      ]
     },
     "execution_count": 188,
     "metadata": {},
     "output_type": "execute_result"
    }
   ],
   "source": [
    "38*G"
   ]
  },
  {
   "cell_type": "code",
   "execution_count": 127,
   "metadata": {
    "vscode": {
     "languageId": "python"
    }
   },
   "outputs": [
    {
     "data": {
      "text/plain": [
       "'0x7f404379407b09766b663188dc931a4447a9f7f697a28e0bb7d6af71fb640a75'"
      ]
     },
     "execution_count": 127,
     "metadata": {},
     "output_type": "execute_result"
    }
   ],
   "source": [
    "hex(57557275668170030751205783366692182336187119348409806120363223499612853897845 )"
   ]
  },
  {
   "cell_type": "code",
   "execution_count": 657,
   "metadata": {
    "vscode": {
     "languageId": "python"
    }
   },
   "outputs": [],
   "source": [
    "##window size= 7 got tmppoint  when 31 characters used are ok \n",
    "\n",
    "\"\"\" \n",
    "0x90178492055f62e1 0xb2399b6412412faf 0xc498e793359fdcca 0x56509d03c52d9398  ---x \n",
    "0xaa5b3df5789201a9 0xb2f24e38de894b1e 0xb2d8670e3ffe6cdc 0x4db21bfff22e0fdb  ---y \n",
    "0x9553c894550581de 0x4b3d8c0ec3cae1e4 0x1879b9db32abdd9c 0x4856666da7d3e082  ---z  \n",
    "\"\"\"\n",
    "\n",
    "x1=0x56509d03c52d9398c498e793359fdccab2399b6412412faf90178492055f62e1\n",
    "y1=0x4db21bfff22e0fdbb2d8670e3ffe6cdcb2f24e38de894b1eaa5b3df5789201a9\n",
    "z1=0x4856666da7d3e0821879b9db32abdd9c4b3d8c0ec3cae1e49553c894550581de \n",
    "\n",
    "\n",
    "\n",
    "\n",
    "##8 window got last  tmppoint when 31 characters used ok ######################################################################\n",
    "\"\"\"   on the curve---------------\n",
    "0x95a5875b0f73de0c 0x71e123b0a1ab7272 0x4d7a9577b8120934 0xb15278e86a9c301b  ---x \n",
    "0x9270b201cbd55c6e 0xbf06f6c04399692e 0x27170812523c33f2 0x5f34fb9703b90923  ---y \n",
    "0x1542ac9a037f70ef 0x42d2fbadbd6729fd 0x8869f8e6e641451e 0xc1021eb2e9c1375f  ---z  \n",
    "\"\"\"\n",
    "\"\"\" \n",
    "x2=0xb15278e86a9c301b4d7a9577b812093471e123b0a1ab727295a5875b0f73de0c\n",
    "y2=0x5f34fb9703b9092327170812523c33f2bf06f6c04399692e9270b201cbd55c6e\n",
    "z2=0xc1021eb2e9c1375f8869f8e6e641451e42d2fbadbd6729fd1542ac9a037f70ef \n",
    "\"\"\"\n",
    "\n",
    "\"\"\" \n",
    "when came into 31 bytes \n",
    "0x95a5875b0f73de0c 0x71e123b0a1ab7272 0x4d7a9577b8120934 0xb15278e86a9c301b  ---x \n",
    "0x9270b201cbd55c6e 0xbf06f6c04399692e 0x27170812523c33f2 0x5f34fb9703b90923  ---y \n",
    "0x9ef75af79e1f8adc 0x5ac5f216a4791da0 0x1583226b7b7b5d80 0x59f3f053a21c26cc  ---z \n",
    "\"\"\"\n",
    "x2=0xb15278e86a9c301b4d7a9577b812093471e123b0a1ab727295a5875b0f73de0c\n",
    "y2=0x5f34fb9703b9092327170812523c33f2bf06f6c04399692e9270b201cbd55c6e\n",
    "z2=0x59f3f053a21c26cc1583226b7b7b5d805ac5f216a4791da09ef75af79e1f8adc\n",
    "\n",
    "##8 window got last  tmppoint when 32 characters used not ok \n",
    "\"\"\" when 32   not on the curve -------------------------fault\n",
    "{0xf6,0x8f,0xd4,0xcd,0xcd,0x3a,0x21,0xf0,0x75,0x79,\n",
    "                0x4d,0xb5,0x2e,0xbb,0x79,0x7b,0xc3,0x6a,0x4d,0x23,\n",
    "                0x9a,0xee,0xdf,0xb2,0xe9,0xc6,0x2b,0xbc,0x81,0x52,0xc5,0xa6}; \n",
    "\n",
    "when came into 32 bytes on the curve ----                 \n",
    "0x3adef6d564a9a242 0x7c7b6bab09ec84ee 0xef5fde0d3cad3ba6 0x8e34474bfe4c303a  ---x \n",
    "0x53fdc0f90f71072b 0xca00a1036ca6625d 0xb9d6938c06ab0d9b 0x25f02e608311a5dd  ---y \n",
    "0xe5c4d0383f774c8a 0x37dce46712ee29a7 0x68ce3d323aaf5299 0x7d46b383f4b7d942  ---z\n",
    "\"\"\"\n",
    "\n",
    "\n",
    "xx1=0x8e34474bfe4c303aef5fde0d3cad3ba67c7b6bab09ec84ee3adef6d564a9a242\n",
    "yy1=0x25f02e608311a5ddb9d6938c06ab0d9bca00a1036ca6625d53fdc0f90f71072b\n",
    "zz1=0x7d46b383f4b7d94268ce3d323aaf529937dce46712ee29a7e5c4d0383f774c8a \n",
    "\n",
    "\n",
    "\"\"\" when came into 31 bytes on the curve ----- right \n",
    "0x4d511c2fde7c9fc3 0xb0f2261d3b8aa9e2 0xaaec6befb72e5e3a 0xd9141f844e633314  ---x \n",
    "0xeae4a39993236662 0x37e4c7573b0ef72b 0x66a2cc672acbcb93 0x6a0e0296d2446eb3  ---y \n",
    "0xfdbcf406a5cec9e8 0x1419c7370c5a148a 0xdcce36e1d87b6345 0x7305b616294b8448  ---z \n",
    "\"\"\"\n",
    "\n",
    "\"\"\" xx1=0xd9141f844e633314aaec6befb72e5e3ab0f2261d3b8aa9e24d511c2fde7c9fc3\n",
    "yy1=0x6a0e0296d2446eb366a2cc672acbcb9337e4c7573b0ef72beae4a39993236662\n",
    "zz1=0x7305b616294b8448dcce36e1d87b63451419c7370c5a148afdbcf406a5cec9e8  \"\"\"\n",
    "\n",
    "\"\"\" not on the curve -------------------------fault\n",
    "{0x76,0x8f,0xd4,0xcd,0xcd,0x3a,0x21,0xf0,0x75,0x79,\n",
    "            0x4d,0xb5,0x2e,0xbb,0x79,0x7b,0xc3,0x6a,0x4d,0x23,\n",
    "            0x9a,0xee,0xdf,0xb2,0xe9,0xc6,0x2b,0xbc,0x81,0x52,0xc5,0xa6}; \n",
    "0x4b3c74e849d6a22e 0x1f1196417e53ed86 0x1dd90e244b37856a 0xa7757c114be3c69c  ---x \n",
    "0x185f322123c7e60  0xc2fb16761619d6cf 0xf73de530cd76ab53 0x6154e9e9ac51e916  ---y \n",
    "0x5be32a00f90d389f 0xc03a8d338f369408 0x995cf9ec3ed890af 0x440f4454c8dd4624  ---z\n",
    "\"\"\"\n",
    "\"\"\" \n",
    "xx1=0xa7757c114be3c69c1dd90e244b37856a1f1196417e53ed864b3c74e849d6a22e\n",
    "yy1=0x6154e9e9ac51e916f73de530cd76ab53c2fb16761619d6cf185f322123c7e60\n",
    "zz1=0x440f4454c8dd4624995cf9ec3ed890afc03a8d338f3694085be32a00f90d389f \"\"\"\n",
    "\n",
    "\"\"\" when came into 31 bytes    not on the curve -----\n",
    "0x4b3c74e849d6a22e 0x1f1196417e53ed86 0x1dd90e244b37856a 0xa7757c114be3c69c  ---x \n",
    "0x185f322123c7e60  0xc2fb16761619d6cf 0xf73de530cd76ab53 0x6154e9e9ac51e916  ---y \n",
    "0xd0db629b284a5abe 0x7b61fc95bc602075 0xc9fbc63cdde9f05c 0x4a4eb88d68b2997d  ---z  \n",
    "\"\"\" \n",
    "\n",
    "\"\"\" \n",
    "xx1=0xa7757c114be3c69c1dd90e244b37856a1f1196417e53ed864b3c74e849d6a22e\n",
    "yy1=0x6154e9e9ac51e916f73de530cd76ab53c2fb16761619d6cf0185f322123c7e60\n",
    "zz1=0x4a4eb88d68b2997dc9fbc63cdde9f05c7b61fc95bc602075d0db629b284a5abe \n",
    "\"\"\"\n",
    "\n",
    "\"\"\" when came into 30 bytes  on the curve -----\n",
    "0xfb5a800567fb475c 0x78183aefcb79e5cd 0xb47c8f58e3f63c0d 0x6f3b1a5044d36446  ---x \n",
    "0x9b4e0d0720ebb93a 0x10052a5a63550e29 0x69b5e731eb44e0f7 0xc786be980de7ff2e  ---y \n",
    "0x92d6d2ffaed3d2cd 0xf4bc819245cffb8  0x9f299f9506a60342 0xd9d89163b9585756  ---z \n",
    "\"\"\"\n",
    "\"\"\" \n",
    "xx1=0x6f3b1a5044d36446b47c8f58e3f63c0d78183aefcb79e5cdfb5a800567fb475c\n",
    "yy1=0xc786be980de7ff2e69b5e731eb44e0f710052a5a63550e299b4e0d0720ebb93a\n",
    "zz1=0xd9d89163b95857569f299f9506a603420f4bc819245cffb892d6d2ffaed3d2cd  \n",
    "\"\"\"\n",
    "\n",
    "\"\"\" on the curve -------------------------right\n",
    "{0x56,0x8f,0xd4,0xcd,0xcd,0x3a,0x21,0xf0,0x75,0x79,\n",
    "                0x4d,0xb5,0x2e,0xbb,0x79,0x7b,0xc3,0x6a,0x4d,0x23,\n",
    "                0x9a,0xee,0xdf,0xb2,0xe9,0xc6,0x2b,0xbc,0x81,0x52,0xc5,0xa6};\n",
    "0x3499b5c0b146b3c6 0x84ca47b1722b6538 0xb3d287ca4c4a2e42 0x1b53e9bda8befa71  ---x \n",
    "0x2851b2ab0eb81f70 0xc05ffbab38212f32 0x709e1f478a024136 0x6ff692ae5f948bf6  ---y \n",
    "0x520e4bf30c2768de 0x33717dc16a5d3083 0x4e1040afc3d7839c 0x706008bf50bfd814  ---z   \n",
    "\"\"\"               \n",
    "\"\"\" xx1=0x1b53e9bda8befa71b3d287ca4c4a2e4284ca47b1722b65383499b5c0b146b3c6\n",
    "yy1=0x6ff692ae5f948bf6709e1f478a024136c05ffbab38212f322851b2ab0eb81f70\n",
    "zz1=0x706008bf50bfd8144e1040afc3d7839c33717dc16a5d3083520e4bf30c2768de \"\"\"\n",
    "\n",
    "##转化为非mongmary域上的数据\n",
    "sx1=x1*pow(2,-256) % p\n",
    "sy1=y1*pow(2,-256) % p\n",
    "sz1=z1*pow(2,-256) % p\n",
    "\n",
    "sxx1=xx1*pow(2,-256) % p\n",
    "syy1=yy1*pow(2,-256) % p\n",
    "szz1=zz1*pow(2,-256) % p\n",
    "\n",
    "dx1=x2*pow(2,-256) % p\n",
    "dy1=y2*pow(2,-256) % p\n",
    "dz1=z2*pow(2,-256) % p\n",
    "\n"
   ]
  },
  {
   "cell_type": "code",
   "execution_count": 660,
   "metadata": {
    "vscode": {
     "languageId": "python"
    }
   },
   "outputs": [
    {
     "name": "stdout",
     "output_type": "stream",
     "text": [
      "0x76745b5b44ad5de267fdca65c0303b20c9fed2b9534ba375f81ba8433d6f6e24\n",
      "0xf470ea21fd067359ee928b432c46c7e3d3836024cc0e1d4602c24076328b8811\n",
      "----------\n",
      "0xaaf9785981d8f97de77f427f69317b253f9aca69cf41b832710e7d95de4f0b27\n",
      "0x7d9b6f2f70e1924c49fe97030597b956a82c2e6663740529243759fcd877cd0b\n",
      "----------\n",
      "0xa3d6c43483253eebc6a94b500f98b51b9584c8d17e5aa6101ddcaf34c6816068\n",
      "0x5bf07859fc1a2ab74235a02f4e5f8087dff5eb6073025fe69f6652ecbb79c01a\n"
     ]
    }
   ],
   "source": [
    "##转化仿射坐标系下的数值\n",
    "print(hex(((sx1/(sz1^2)))%p))\n",
    "print(hex(((sy1/(sz1^3)))%p))\n",
    "print(\"----------\")\n",
    "print(hex(((sxx1/(szz1^2)))%p))\n",
    "print(hex(((syy1/(szz1^3)))%p))\n",
    "print(\"----------\")\n",
    "print(hex(((dx1/(dz1^2)))%p))\n",
    "print(hex(((dy1/(dz1^3)))%p))"
   ]
  },
  {
   "cell_type": "code",
   "execution_count": 661,
   "metadata": {
    "vscode": {
     "languageId": "python"
    }
   },
   "outputs": [],
   "source": [
    "mm=sm2_curve([0x76745b5b44ad5de267fdca65c0303b20c9fed2b9534ba375f81ba8433d6f6e24 ,0xf470ea21fd067359ee928b432c46c7e3d3836024cc0e1d4602c24076328b8811])"
   ]
  },
  {
   "cell_type": "code",
   "execution_count": 261,
   "metadata": {
    "vscode": {
     "languageId": "python"
    }
   },
   "outputs": [],
   "source": [
    "\n",
    "m=sm2_curve([0x8b0bd3d5f290bc906561496218dbd1f125f38d41e879e9944b64bf01a14f89fe ,0x353a46ccdf8af2c9ac962ed28a0da636e5a1a215e6dbfbae31f3a0724852b4d1])"
   ]
  },
  {
   "cell_type": "code",
   "execution_count": 335,
   "metadata": {
    "vscode": {
     "languageId": "python"
    }
   },
   "outputs": [
    {
     "data": {
      "text/plain": [
       "(30230779022176179836294613281682845561516024687128291348656595916386994823950 : 8867609076411329695499622731807367272211996535931058537515298988137667650766 : 1)"
      ]
     },
     "execution_count": 335,
     "metadata": {},
     "output_type": "execute_result"
    }
   ],
   "source": [
    "mm-m"
   ]
  },
  {
   "cell_type": "code",
   "execution_count": 336,
   "metadata": {
    "vscode": {
     "languageId": "python"
    }
   },
   "outputs": [
    {
     "data": {
      "text/plain": [
       "'0xdd4504555a1bea881be7db17752a561cba0094e0204769e96bdb2de8e495289d'"
      ]
     },
     "execution_count": 336,
     "metadata": {},
     "output_type": "execute_result"
    }
   ],
   "source": [
    "hex(Mont(30230779022176179836294613281682845561516024687128291348656595916386994823950))"
   ]
  },
  {
   "cell_type": "code",
   "execution_count": 260,
   "metadata": {
    "vscode": {
     "languageId": "python"
    }
   },
   "outputs": [],
   "source": [
    "n=sm2_curve([0xda77f2c51e69190e595ccfdea051cea619d20e422be4dbdb53e2ed699e54da06 ,0x859c5b811a8730fc5a1c4821142f9aa4bf6c9b444d6d9fa7dffdbf15d5fccdee])"
   ]
  },
  {
   "cell_type": "code",
   "execution_count": 339,
   "metadata": {
    "vscode": {
     "languageId": "python"
    }
   },
   "outputs": [
    {
     "data": {
      "text/plain": [
       "(30230779022176179836294613281682845561516024687128291348656595916386994823950 : 8867609076411329695499622731807367272211996535931058537515298988137667650766 : 1)"
      ]
     },
     "execution_count": 339,
     "metadata": {},
     "output_type": "execute_result"
    }
   ],
   "source": [
    "n-m"
   ]
  },
  {
   "cell_type": "code",
   "execution_count": 337,
   "metadata": {
    "vscode": {
     "languageId": "python"
    }
   },
   "outputs": [
    {
     "data": {
      "text/plain": [
       "'0x4b729baaf53beeb2f6e40f3b4a4567d2cdf59a655adc19806f2c663ab6c324d8'"
      ]
     },
     "execution_count": 337,
     "metadata": {},
     "output_type": "execute_result"
    }
   ],
   "source": [
    "hex(Mont(8867609076411329695499622731807367272211996535931058537515298988137667650766))"
   ]
  },
  {
   "cell_type": "code",
   "execution_count": 267,
   "metadata": {
    "vscode": {
     "languageId": "python"
    }
   },
   "outputs": [],
   "source": [
    "t=m-n"
   ]
  },
  {
   "cell_type": "code",
   "execution_count": null,
   "metadata": {
    "vscode": {
     "languageId": "python"
    }
   },
   "outputs": [],
   "source": [
    "import re\n",
    "import sys\n",
    "p = Integer('FFFFFFFEFFFFFFFFFFFFFFFFFFFFFFFFFFFFFFFF00000000FFFFFFFFFFFFFFFF', 16)\n",
    "a = Integer('FFFFFFFEFFFFFFFFFFFFFFFFFFFFFFFFFFFFFFFF00000000FFFFFFFFFFFFFFFC', 16)\n",
    "b = Integer('28E9FA9E9D9F5E344D5A9E4BCF6509A7F39789F515AB8F92DDBCBD414D940E93', 16)\n",
    "x = Integer('32C4AE2C1F1981195F9904466A39C9948FE30BBFF2660BE1715A4589334C74C7', 16)\n",
    "y = Integer('BC3736A2F4F6779C59BDCEE36B692153D0A9877CC62A474002DF32E52139F0A0', 16)\n",
    "sm2_curve = EllipticCurve(GF(p),[a, b])\n",
    "G=sm2_curve([x,y])\n",
    "\n",
    "def Mont(a):\n",
    "    r=2^256\n",
    "    n = Integer('FFFFFFFEFFFFFFFFFFFFFFFFFFFFFFFFFFFFFFFF00000000FFFFFFFFFFFFFFFF', 16)\n",
    "    a= (a*r)%n\n",
    "    return a\n",
    "def retnumber(st1):\n",
    "    pattern=re.compile(r'\\d{2,}')\n",
    "    result=pattern.findall(st1)\n",
    "    return result\n",
    "def changStrToHex(numberStr):\n",
    "    to=Integer(numberStr,10)\n",
    "    mto=Mont(to)\n",
    "    ht=\"0x{:064x}\".format(mto)\n",
    "    return ht\n",
    "def changHtToTOBN(hexNumber):\n",
    "    listString=[]\n",
    "    listString.append(hexNumber[0:10])\n",
    "    listString.append('0x' + hexNumber[10:18])\n",
    "    listString.append('0x' + hexNumber[18:26])\n",
    "    listString.append('0x' + hexNumber[26:34])\n",
    "    listString.append('0x' + hexNumber[34:42])\n",
    "    listString.append('0x' + hexNumber[42:50])\n",
    "    listString.append('0x' + hexNumber[50:58])\n",
    "    listString.append('0x' + hexNumber[58:])\n",
    "    #print(listString)\n",
    "    tobn=[]\n",
    "    length=len(listString)\n",
    "    index=0\n",
    "    while (index < length):\n",
    "        newStr='TOBN('+ listString[index] +','+listString[index+1] +'),'\n",
    "        if (len(tobn) == 0):\n",
    "            tobn.append(newStr)\n",
    "        else:\n",
    "            tobn.insert(0,newStr)\n",
    "        index=index+2    \n",
    "    print(tobn[0],tobn[1])\n",
    "    print(tobn[2],tobn[3])\n",
    "def createBaseData(extLoop,intLoop,windowsize):\n",
    "    pow_t=0\n",
    "    while(pow_t < extLoop):\n",
    "        mi=pow_t*windowsize\n",
    "        ext=pow(2,mi)\n",
    "        print('{') \n",
    "        for number in range(1,intLoop):        \n",
    "            ng = (ext*number*G)\n",
    "            ngstr = str(ng)\n",
    "            retlist=retnumber(ngstr)\n",
    "            for number in retlist:\n",
    "                hn=changStrToHex(number)    \n",
    "                changHtToTOBN(hn)\n",
    "        print('},')\n",
    "        pow_t=pow_t+1\n",
    "\n",
    "sys.stdout=open('12-output.txt','w')  \n",
    "createBaseData(22,2048+1,12)\n",
    "sys.stdout.close()\n",
    "sys.stdout = sys.__stdout__   "
   ]
  },
  {
   "cell_type": "code",
   "execution_count": null,
   "metadata": {
    "vscode": {
     "languageId": "python"
    }
   },
   "outputs": [],
   "source": [
    "b = Mont(5257513243040452602573105555726168410135164964858170831535370601477399913225  )\n",
    "hex(b)"
   ]
  },
  {
   "cell_type": "code",
   "execution_count": null,
   "metadata": {
    "vscode": {
     "languageId": "python"
    }
   },
   "outputs": [],
   "source": [
    "1024*1024*1024*1024*1024*1024*1024*1024*1024*1024*1024*1024*195*G"
   ]
  },
  {
   "cell_type": "code",
   "execution_count": null,
   "metadata": {
    "vscode": {
     "languageId": "python"
    }
   },
   "outputs": [],
   "source": [
    "b = Mont(39176492866914390210937283202330071910604075079635396759237936234932569554937  )\n",
    "hex(b)"
   ]
  },
  {
   "cell_type": "code",
   "execution_count": null,
   "metadata": {
    "vscode": {
     "languageId": "python"
    }
   },
   "outputs": [],
   "source": [
    "pow(2,248)*9*G"
   ]
  },
  {
   "cell_type": "code",
   "execution_count": 8,
   "metadata": {
    "vscode": {
     "languageId": "python"
    }
   },
   "outputs": [
    {
     "data": {
      "text/plain": [
       "(22963146547237050559479531362550074578802567295341616970375194840604139615431 : 85132369209828568825618990617112496413088388631904505083283536607588877201568 : 1)"
      ]
     },
     "execution_count": 8,
     "metadata": {},
     "output_type": "execute_result"
    }
   ],
   "source": [
    "2*G-G"
   ]
  },
  {
   "cell_type": "code",
   "execution_count": null,
   "metadata": {
    "vscode": {
     "languageId": "python"
    }
   },
   "outputs": [],
   "source": [
    "hex(26959946667150639794667015087019630673716372585036390074623444647937)"
   ]
  },
  {
   "cell_type": "code",
   "execution_count": null,
   "metadata": {
    "vscode": {
     "languageId": "python"
    }
   },
   "outputs": [],
   "source": [
    "def MontPro(a_m,b_m):\n",
    "    t = (a_m*b_m )% r\n",
    "    m = (t * nn) % r\n",
    "    u=(a_m*b_m+m*n)//r\n",
    "    if u>=n:\n",
    "        return u-n\n",
    "    else:\n",
    "        return u\n",
    "def Mont(a):\n",
    "    a= (a*r)%n\n",
    "    return a"
   ]
  },
  {
   "cell_type": "code",
   "execution_count": 1,
   "metadata": {
    "vscode": {
     "languageId": "python"
    }
   },
   "outputs": [
    {
     "name": "stdout",
     "output_type": "stream",
     "text": [
      "X3  = 0x663f8343d893ff41cee588b004a85c7612f12835906fd3915a5f8a4618eb0d22\n",
      "Y3  = 0xf3fffd1046270a6b3bb510c58fae852ee7243a00c0188eceb59e812882512224\n",
      "Z3  = 0xf6b83d4c41ac9bc13f23f8d93fc6f28a0f14aeb44abd99dbb913084af606271e\n"
     ]
    }
   ],
   "source": [
    "\n",
    "p = Integer('FFFFFFFEFFFFFFFFFFFFFFFFFFFFFFFFFFFFFFFF00000000FFFFFFFFFFFFFFFF', 16)\n",
    "\n",
    "X1=Integer('1b4b19f6de44661667a1755c97bf703228358a2c26f384748e016ca13d57aeeb', 16)\n",
    "Y1=Integer('fdfa6c50c54cafaf9344c765c885f11e612c06188708d8e25986abee0373baf4', 16)\n",
    "Z1=Integer('0000000100000000000000000000000000000000ffffffff0000000000000001', 16)\n",
    "\n",
    "X2=Integer('120357441ff101d7a6c56e35d78662bc374a38e171b11e4f471474ec335dd60a', 16)\n",
    "Y2=Integer('6eb35daf27813dbbbcdaa711e6ed63e4f84c0eb120ba65802b40b6ccc85199e0', 16)\n",
    "\n",
    "T1 = Z1^2*pow(2,-256) % p\n",
    "T2 = T1*Z1*pow(2,-256) % p\n",
    "T1 = T1*X2*pow(2,-256) % p\n",
    "T2 = T2*Y2*pow(2,-256) % p\n",
    "T1 = (T1-X1) % p\n",
    "T2 = (T2-Y1) % p\n",
    "Z3 = Z1*T1*pow(2,-256) % p\n",
    "T3 = T1^2*pow(2,-256) % p\n",
    "T4 = T3*T1*pow(2,-256) % p\n",
    "T3 = T3*X1*pow(2,-256) % p\n",
    "T1 = 2*T3*pow(2,-256) % p\n",
    "X3 = T2^2*pow(2,-256) % p\n",
    "X3 = (X3-T1)%p\n",
    "X3 = (X3-T4)%p\n",
    "T3 = (T3-X3)%p\n",
    "T3 = T3*T2*pow(2,-256) % p\n",
    "T4 = T4*Y1*pow(2,-256) % p\n",
    "Y3 = (T3-T4)%p\n",
    "\n",
    "print(\"X3  = 0x{:064x}\".format(X3))\n",
    "print(\"Y3  = 0x{:064x}\".format(Y3))\n",
    "print(\"Z3  = 0x{:064x}\".format(Z3))"
   ]
  },
  {
   "cell_type": "code",
   "execution_count": null,
   "metadata": {
    "vscode": {
     "languageId": "python"
    }
   },
   "outputs": [],
   "source": [
    "##7window got tmppoint \n",
    "x=0x66d087e443c924bd393608daef9d5593e1103f4f487b4892a099f7f85d1db65f\n",
    "y=0x5ab9e82f77ebdc298aeec44fe983cbe9a0dffa17556bcd1c72b578b00eda2665\n",
    "z=0x67ed9a63f6084a7aaf988152ca2d803f2b120745481a929cb50022ae72ac0f4c\n",
    "##8window 最后一次 temppoint\n",
    "x=0x1b309c6ae87852b1340912b877957a4d7272aba1b023e1710cde730f5b87a595\n",
    "y=0x2309b90397fb345ff2333c52120817272e699943c0f606bf6e5cd5cb01b27092\n",
    "z=0x5f37c1e9b21e02c11e4541e6e6f86988fd2967bdadfbd242ef707f039aac4215"
   ]
  }
 ],
 "metadata": {
  "kernelspec": {
   "display_name": "SageMath 9.3",
   "language": "sage",
   "name": "sagemath"
  },
  "language_info": {
   "codemirror_mode": {
    "name": "ipython",
    "version": 3
   },
   "file_extension": ".py",
   "mimetype": "text/x-python",
   "name": "sage",
   "nbconvert_exporter": "python",
   "pygments_lexer": "ipython3",
   "version": "3.7.10"
  },
  "orig_nbformat": 4
 },
 "nbformat": 4,
 "nbformat_minor": 2
}
